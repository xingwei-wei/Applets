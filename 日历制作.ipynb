{
 "cells": [
  {
   "cell_type": "code",
   "execution_count": 2,
   "metadata": {},
   "outputs": [
    {
     "name": "stdout",
     "output_type": "stream",
     "text": [
      "                                  2019\n",
      "\n",
      "      January                   February                   March\n",
      "Su Mo Tu We Th Fr Sa      Su Mo Tu We Th Fr Sa      Su Mo Tu We Th Fr Sa\n",
      "       1  2  3  4  5                      1  2                      1  2\n",
      " 6  7  8  9 10 11 12       3  4  5  6  7  8  9       3  4  5  6  7  8  9\n",
      "13 14 15 16 17 18 19      10 11 12 13 14 15 16      10 11 12 13 14 15 16\n",
      "20 21 22 23 24 25 26      17 18 19 20 21 22 23      17 18 19 20 21 22 23\n",
      "27 28 29 30 31            24 25 26 27 28            24 25 26 27 28 29 30\n",
      "                                                    31\n",
      "\n",
      "       April                      May                       June\n",
      "Su Mo Tu We Th Fr Sa      Su Mo Tu We Th Fr Sa      Su Mo Tu We Th Fr Sa\n",
      "    1  2  3  4  5  6                1  2  3  4                         1\n",
      " 7  8  9 10 11 12 13       5  6  7  8  9 10 11       2  3  4  5  6  7  8\n",
      "14 15 16 17 18 19 20      12 13 14 15 16 17 18       9 10 11 12 13 14 15\n",
      "21 22 23 24 25 26 27      19 20 21 22 23 24 25      16 17 18 19 20 21 22\n",
      "28 29 30                  26 27 28 29 30 31         23 24 25 26 27 28 29\n",
      "                                                    30\n",
      "\n",
      "        July                     August                  September\n",
      "Su Mo Tu We Th Fr Sa      Su Mo Tu We Th Fr Sa      Su Mo Tu We Th Fr Sa\n",
      "    1  2  3  4  5  6                   1  2  3       1  2  3  4  5  6  7\n",
      " 7  8  9 10 11 12 13       4  5  6  7  8  9 10       8  9 10 11 12 13 14\n",
      "14 15 16 17 18 19 20      11 12 13 14 15 16 17      15 16 17 18 19 20 21\n",
      "21 22 23 24 25 26 27      18 19 20 21 22 23 24      22 23 24 25 26 27 28\n",
      "28 29 30 31               25 26 27 28 29 30 31      29 30\n",
      "\n",
      "      October                   November                  December\n",
      "Su Mo Tu We Th Fr Sa      Su Mo Tu We Th Fr Sa      Su Mo Tu We Th Fr Sa\n",
      "       1  2  3  4  5                      1  2       1  2  3  4  5  6  7\n",
      " 6  7  8  9 10 11 12       3  4  5  6  7  8  9       8  9 10 11 12 13 14\n",
      "13 14 15 16 17 18 19      10 11 12 13 14 15 16      15 16 17 18 19 20 21\n",
      "20 21 22 23 24 25 26      17 18 19 20 21 22 23      22 23 24 25 26 27 28\n",
      "27 28 29 30 31            24 25 26 27 28 29 30      29 30 31\n",
      "\n"
     ]
    }
   ],
   "source": [
    "import calendar\n",
    "# 设置每周的起始日期码,为星期天\n",
    "calendar.setfirstweekday(firstweekday=6)\n",
    "# 返回2019年年历\n",
    "print(calendar.calendar(2019, w=2, l=1, c=6))"
   ]
  },
  {
   "cell_type": "code",
   "execution_count": 3,
   "metadata": {},
   "outputs": [
    {
     "name": "stdout",
     "output_type": "stream",
     "text": [
      "[[0, 0, 1, 2, 3, 4, 5], [6, 7, 8, 9, 10, 11, 12], [13, 14, 15, 16, 17, 18, 19], [20, 21, 22, 23, 24, 25, 26], [27, 28, 29, 30, 31, 0, 0]]\n"
     ]
    }
   ],
   "source": [
    "# 返回每月每列信息\n",
    "print(calendar.monthcalendar(2019, 1))"
   ]
  },
  {
   "cell_type": "code",
   "execution_count": 10,
   "metadata": {},
   "outputs": [],
   "source": [
    "'''\n",
    "创建工作表\n",
    "'''\n",
    "from openpyxl.styles import Alignment, PatternFill, Font\n",
    "from openpyxl.utils import get_column_letter\n",
    "from openpyxl.drawing.image import Image\n",
    "import openpyxl\n",
    "\n",
    "# 设置第一天为星期天\n",
    "calendar.setfirstweekday(firstweekday=6)\n",
    "\n",
    "# 创建一个工作簿\n",
    "wb = openpyxl.Workbook()\n",
    "\n",
    "# 遍历12个月\n",
    "# 遍历12个月\n",
    "for i in range(1, 13):\n",
    "    # 添加工作表\n",
    "    sheet = wb.create_sheet(index=0, title=str(i) + '月')\n",
    "    # 获取具体日期时间\n",
    "    for j in range(len(calendar.monthcalendar(2019, i))):\n",
    "        for k in range(len(calendar.monthcalendar(2019, i)[j])):\n",
    "            value = calendar.monthcalendar(2019, i)[j][k]\n",
    "            # 将0值变为空值\n",
    "            if value == 0:\n",
    "                value = ''\n",
    "                sheet.cell(row=j + 9, column=k + 1).value = value\n",
    "            else:\n",
    "                sheet.cell(row=j + 9, column=k + 1).value = value\n",
    "                # 设置字体\n",
    "                sheet.cell(row=j + 9, column=k + 1).font = Font(u'微软雅黑', size=11)\n",
    "    # 单元格文字设置,右对齐,垂直居中\n",
    "    align = Alignment(horizontal='right', vertical='center')\n",
    "    # 单元格填充色属性设置\n",
    "    fill = PatternFill(\"solid\", fgColor=\"B9EBF7\")\n",
    "    # 对单元格进行颜色填充\n",
    "    for k1 in range(1, 100):\n",
    "        for k2 in range(1, 100):\n",
    "            sheet.cell(row=k1, column=k2).fill = fill\n",
    "    # 添加星期几信息行\n",
    "    days = ['星期日', '星期一', '星期二', '星期三', '星期四', '星期五', '星期六']\n",
    "    num = 0\n",
    "    for k3 in range(1, 8):\n",
    "        sheet.cell(row=8, column=k3).value = days[num]\n",
    "        sheet.cell(row=8, column=k3).alignment = align\n",
    "        sheet.cell(row=8, column=k3).font = Font(u'微软雅黑', size=11)\n",
    "        # 设置列宽12\n",
    "        c_char = get_column_letter(k3)\n",
    "        sheet.column_dimensions[get_column_letter(k3)].width = 12\n",
    "        num += 1\n",
    "    # 设置行高30\n",
    "    for k4 in range(8, 14):\n",
    "        sheet.row_dimensions[k4].height = 30\n",
    "    # 合并单元格\n",
    "    sheet.merge_cells('I1:P20')\n",
    "    # 添加图片\n",
    "    img = Image('鼠年大吉.jpg')\n",
    "    sheet.add_image(img, 'I1')\n",
    "\n",
    "    # 添加年份及月份\n",
    "    sheet.cell(row=3, column=1).value = '2019年'\n",
    "    sheet.cell(row=4, column=1).value = str(i) + '月'\n",
    "    # 设置年份及月份文本属性\n",
    "    sheet.cell(row=3, column=1).font = Font(u'微软雅黑', size=16, bold=True, color='FF7887')\n",
    "    sheet.cell(row=4, column=1).font = Font(u'微软雅黑', size=16, bold=True, color='FF7887')\n",
    "    sheet.cell(row=3, column=1).alignment = align\n",
    "    sheet.cell(row=4, column=1).alignment = align"
   ]
  },
  {
   "cell_type": "code",
   "execution_count": 11,
   "metadata": {},
   "outputs": [],
   "source": [
    "# 保存文档\n",
    "wb.save('爱豆日历.xlsx')"
   ]
  },
  {
   "cell_type": "code",
   "execution_count": null,
   "metadata": {},
   "outputs": [],
   "source": []
  }
 ],
 "metadata": {
  "kernelspec": {
   "display_name": "Python 3",
   "language": "python",
   "name": "python3"
  },
  "language_info": {
   "codemirror_mode": {
    "name": "ipython",
    "version": 3
   },
   "file_extension": ".py",
   "mimetype": "text/x-python",
   "name": "python",
   "nbconvert_exporter": "python",
   "pygments_lexer": "ipython3",
   "version": "3.6.3rc1"
  }
 },
 "nbformat": 4,
 "nbformat_minor": 2
}
