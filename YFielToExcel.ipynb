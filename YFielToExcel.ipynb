{
 "cells": [
  {
   "cell_type": "code",
   "execution_count": 1,
   "metadata": {},
   "outputs": [],
   "source": [
    "import numpy as np\n",
    "import pandas as pd"
   ]
  },
  {
   "cell_type": "code",
   "execution_count": 2,
   "metadata": {},
   "outputs": [],
   "source": [
    "\"\"\"\n",
    "读取txt文件\n",
    "该文本中的分割符既有空格又有制表符（‘/t’），sep参数用‘/s+’，可以匹配任何空格。\n",
    "\"\"\"\n",
    "#header=None:没有每列的column name，可以自己设定\n",
    "#encoding='gb2312':其他编码中文显示错误\n",
    "#sep=',':用逗号来分隔每行的数据\n",
    "#index_col=0:设置第1列数据作为index\n",
    "#index_col=0  指定第一列作为索引\n",
    "inputfile='Y53859-2019.TXT'"
   ]
  },
  {
   "cell_type": "code",
   "execution_count": 3,
   "metadata": {},
   "outputs": [
    {
     "name": "stderr",
     "output_type": "stream",
     "text": [
      "c:\\users\\administrator\\appdata\\local\\programs\\python\\python36\\lib\\site-packages\\ipykernel_launcher.py:1: ParserWarning: Falling back to the 'python' engine because the 'c' engine does not support regex separators (separators > 1 char and different from '\\s+' are interpreted as regex); you can avoid this warning by specifying engine='python'.\n",
      "  \"\"\"Entry point for launching an IPython kernel.\n"
     ]
    }
   ],
   "source": [
    "data = pd.read_csv(inputfile,header=None,sep='/t',encoding='gb2312',index_col=0)"
   ]
  },
  {
   "cell_type": "code",
   "execution_count": 4,
   "metadata": {},
   "outputs": [],
   "source": [
    "#提取数据\n",
    "SJ=list(data.index)\n",
    "#print(SJ)"
   ]
  },
  {
   "cell_type": "code",
   "execution_count": 5,
   "metadata": {},
   "outputs": [
    {
     "name": "stdout",
     "output_type": "stream",
     "text": [
      "台站参数：\n",
      "                   数据\n",
      "区站号             53859\n",
      "纬度              3605N\n",
      "经度             11040E\n",
      "观测场海波高度        008513\n",
      "气压传感器海拔高度      008523\n",
      "风速感应器距地（平台）高度     102\n",
      "观测平台距地高度          000\n",
      "观测方式和测站类别         S12\n",
      "质量控制指示码           110\n",
      "年份               2019\n"
     ]
    }
   ],
   "source": [
    "station=(SJ[0]).split(' ',-1)\n",
    "jiben=['区站号','纬度','经度','观测场海波高度', '气压传感器海拔高度', '风速感应器距地（平台）高度',\n",
    "         '观测平台距地高度','观测方式和测站类别','质量控制指示码' ,'年份']\n",
    "print('台站参数：')\n",
    "df_station=pd.DataFrame(station,index=jiben,columns=['数据'])\n",
    "print(df_station)"
   ]
  },
  {
   "cell_type": "code",
   "execution_count": 6,
   "metadata": {},
   "outputs": [
    {
     "name": "stdout",
     "output_type": "stream",
     "text": [
      "['2019年']\n"
     ]
    }
   ],
   "source": [
    "year=df_station.loc['年份'].values\n",
    "index_1=[\"{}年\".format(year[0])]\n",
    "print(index_1)"
   ]
  },
  {
   "cell_type": "code",
   "execution_count": 7,
   "metadata": {},
   "outputs": [
    {
     "name": "stdout",
     "output_type": "stream",
     "text": [
      "['2019年-1月', '2019年-2月', '2019年-3月', '2019年-4月', '2019年-5月', '2019年-6月', '2019年-7月', '2019年-8月', '2019年-9月', '2019年-10月', '2019年-11月', '2019年-12月']\n"
     ]
    }
   ],
   "source": [
    "#print(month)\n",
    "index_12=[]\n",
    "for i in range(1,13):\n",
    "    index_12=index_12+[\"{}年-{}月\".format(year[0],i)]\n",
    "print(index_12)"
   ]
  },
  {
   "cell_type": "code",
   "execution_count": null,
   "metadata": {},
   "outputs": [],
   "source": []
  },
  {
   "cell_type": "code",
   "execution_count": 8,
   "metadata": {},
   "outputs": [
    {
     "name": "stdout",
     "output_type": "stream",
     "text": [
      "P= ['P', '09273 09300 09243 09368 52 09196 18', '09234 09260 09202 09312 10 09104 02', '09200 09226 09167 09304 15 09042 19', '09160 09183 09128 09278 14 09043 17', '09160 09185 09125 09263 06 09047 25', '09111 09127 09090 09162 23 09049 02', '09102 09118 09079 09143 53 09013 05', '09132 09147 09112 09209 28 09042 15', '09207 09225 09184 09288 24 09094 07', '09237 09257 09214 09338 15 09159 02', '09251 09280 09219 09385 25 09128 16', '09261 09289 09232 09380 31 09148 22', '09194 09216 09166 09385 11 25 09013 07 05=', '10324', '10269', '10201', '10131', '10116', '10046', '10030', '10069', '10171', '10226', '10265', '10300', '10179=']\n"
     ]
    }
   ],
   "source": [
    "'''\n",
    "P：气压\n",
    "    本站气压：13条记录，1-12条： 各月平均、月平均最高/最低、月极端最高/最低及其出现时间日期（7组）\n",
    "              13条： 年平均、年平均最高/最低、年极端最高/最低及其出现的月份、日期（9组）\n",
    "    海平面气压：各月平均数据\n",
    "    单位：0.1hpa\n",
    "'''\n",
    "\n",
    "P=SJ[SJ.index('P'):SJ.index('T')]\n",
    "print('P=',P)"
   ]
  },
  {
   "cell_type": "code",
   "execution_count": 9,
   "metadata": {},
   "outputs": [
    {
     "name": "stdout",
     "output_type": "stream",
     "text": [
      "索引0： P\n",
      "索引1： 09273 09300 09243 09368 52 09196 18\n",
      "索引2： 09234 09260 09202 09312 10 09104 02\n",
      "索引3： 09200 09226 09167 09304 15 09042 19\n",
      "索引4： 09160 09183 09128 09278 14 09043 17\n",
      "索引5： 09160 09185 09125 09263 06 09047 25\n",
      "索引6： 09111 09127 09090 09162 23 09049 02\n",
      "索引7： 09102 09118 09079 09143 53 09013 05\n",
      "索引8： 09132 09147 09112 09209 28 09042 15\n",
      "索引9： 09207 09225 09184 09288 24 09094 07\n",
      "索引10： 09237 09257 09214 09338 15 09159 02\n",
      "索引11： 09251 09280 09219 09385 25 09128 16\n",
      "索引12： 09261 09289 09232 09380 31 09148 22\n",
      "索引13： 09194 09216 09166 09385 11 25 09013 07 05=\n",
      "索引14： 10324\n",
      "索引15： 10269\n",
      "索引16： 10201\n",
      "索引17： 10131\n",
      "索引18： 10116\n",
      "索引19： 10046\n",
      "索引20： 10030\n",
      "索引21： 10069\n",
      "索引22： 10171\n",
      "索引23： 10226\n",
      "索引24： 10265\n",
      "索引25： 10300\n",
      "索引26： 10179=\n"
     ]
    }
   ],
   "source": [
    "for i in range(len(P)):\n",
    "    print('索引%d：'%i,P[i])"
   ]
  },
  {
   "cell_type": "code",
   "execution_count": 10,
   "metadata": {},
   "outputs": [
    {
     "name": "stdout",
     "output_type": "stream",
     "text": [
      "[13, 26]\n"
     ]
    }
   ],
   "source": [
    "p=[]\n",
    "#print(P)\n",
    "for i in range(len(P)):\n",
    "    if P[i][-1]=='=':  # 若字符串最后一位为=\n",
    "        p=p+[i]     \n",
    "print(p)"
   ]
  },
  {
   "cell_type": "code",
   "execution_count": 11,
   "metadata": {},
   "outputs": [
    {
     "name": "stdout",
     "output_type": "stream",
     "text": [
      "['09273 09300 09243 09368 52 09196 18', '09234 09260 09202 09312 10 09104 02', '09200 09226 09167 09304 15 09042 19', '09160 09183 09128 09278 14 09043 17', '09160 09185 09125 09263 06 09047 25', '09111 09127 09090 09162 23 09049 02', '09102 09118 09079 09143 53 09013 05', '09132 09147 09112 09209 28 09042 15', '09207 09225 09184 09288 24 09094 07', '09237 09257 09214 09338 15 09159 02', '09251 09280 09219 09385 25 09128 16', '09261 09289 09232 09380 31 09148 22', '09194 09216 09166 09385 11 25 09013 07 05=']\n"
     ]
    }
   ],
   "source": [
    "#P 第一组\n",
    "P_1=P[1:p[0]+1]\n",
    "print(P_1)"
   ]
  },
  {
   "cell_type": "code",
   "execution_count": 12,
   "metadata": {},
   "outputs": [
    {
     "name": "stdout",
     "output_type": "stream",
     "text": [
      "['09273 09300 09243 09368 52 09196 18', '09234 09260 09202 09312 10 09104 02', '09200 09226 09167 09304 15 09042 19', '09160 09183 09128 09278 14 09043 17', '09160 09185 09125 09263 06 09047 25', '09111 09127 09090 09162 23 09049 02', '09102 09118 09079 09143 53 09013 05', '09132 09147 09112 09209 28 09042 15', '09207 09225 09184 09288 24 09094 07', '09237 09257 09214 09338 15 09159 02', '09251 09280 09219 09385 25 09128 16', '09261 09289 09232 09380 31 09148 22', '09194 09216 09166 09385 11 25 09013 07 05']\n"
     ]
    }
   ],
   "source": [
    "#去掉.和对不同的=结尾进行分割,在 P_1 上直接进行处理\n",
    "p0=['=',]\n",
    "for i in range(len(P_1)):\n",
    "    if P_1[i][-1] in p0:\n",
    "        P_1[i]=P_1[i].rstrip('=')  #删除 string 字符串末尾的指定字符\n",
    "print(P_1)"
   ]
  },
  {
   "cell_type": "code",
   "execution_count": 13,
   "metadata": {},
   "outputs": [
    {
     "name": "stdout",
     "output_type": "stream",
     "text": [
      "[['09273', '09300', '09243', '09368', '52', '09196', '18'], ['09234', '09260', '09202', '09312', '10', '09104', '02'], ['09200', '09226', '09167', '09304', '15', '09042', '19'], ['09160', '09183', '09128', '09278', '14', '09043', '17'], ['09160', '09185', '09125', '09263', '06', '09047', '25'], ['09111', '09127', '09090', '09162', '23', '09049', '02'], ['09102', '09118', '09079', '09143', '53', '09013', '05'], ['09132', '09147', '09112', '09209', '28', '09042', '15'], ['09207', '09225', '09184', '09288', '24', '09094', '07'], ['09237', '09257', '09214', '09338', '15', '09159', '02'], ['09251', '09280', '09219', '09385', '25', '09128', '16'], ['09261', '09289', '09232', '09380', '31', '09148', '22'], ['09194', '09216', '09166', '09385', '11', '25', '09013', '07', '05']]\n"
     ]
    }
   ],
   "source": [
    "for i in range(len(P_1)):\n",
    "    P_1[i]=P_1[i].split()\n",
    "print(P_1)"
   ]
  },
  {
   "cell_type": "code",
   "execution_count": 14,
   "metadata": {},
   "outputs": [
    {
     "name": "stdout",
     "output_type": "stream",
     "text": [
      "['10324', '10269', '10201', '10131', '10116', '10046', '10030', '10069', '10171', '10226', '10265', '10300', '10179=']\n"
     ]
    }
   ],
   "source": [
    "#P_2 第2组 海平面气压\n",
    "P_2=P[p[0]+1:p[1]+1]\n",
    "print(P_2)"
   ]
  },
  {
   "cell_type": "code",
   "execution_count": 15,
   "metadata": {},
   "outputs": [
    {
     "name": "stdout",
     "output_type": "stream",
     "text": [
      "[['10324'], ['10269'], ['10201'], ['10131'], ['10116'], ['10046'], ['10030'], ['10069'], ['10171'], ['10226'], ['10265'], ['10300'], ['10179']]\n"
     ]
    }
   ],
   "source": [
    "#去掉.和对不同的=结尾进行分割,在 P 上直接进行处理\n",
    "p0=['=','.']\n",
    "for i in range(len(P_2)):\n",
    "    if P_2[i][-1] in p0:\n",
    "        P_2[i]=P_2[i].rstrip('.')  #删除 string 字符串末尾的指定字符\n",
    "        P_2[i]=P_2[i].rstrip('=')  #删除 string 字符串末尾的指定字符\n",
    "for i in range(len(P_2)):\n",
    "    P_2[i]=P_2[i].split()\n",
    "print(P_2)"
   ]
  },
  {
   "cell_type": "code",
   "execution_count": null,
   "metadata": {},
   "outputs": [],
   "source": []
  },
  {
   "cell_type": "code",
   "execution_count": null,
   "metadata": {},
   "outputs": [],
   "source": []
  },
  {
   "cell_type": "code",
   "execution_count": null,
   "metadata": {},
   "outputs": [],
   "source": []
  },
  {
   "cell_type": "code",
   "execution_count": 16,
   "metadata": {},
   "outputs": [],
   "source": [
    "'''\n",
    "T:气温\n",
    "    13段记录，1-12段： 各月逐候平均、逐旬平均、月平均、月平均最高/最低、月极端最高/最低及其出现时间日期（16组）\n",
    "              13段： 年平均、年平均最高/最低、年极端最高/最低及其出现的月份、日期（9组）\n",
    "    单位：0.1摄氏度\n",
    "\n",
    "'''\n",
    "T=SJ[SJ.index('T'):SJ.index('E')]\n",
    "#print(T)"
   ]
  },
  {
   "cell_type": "code",
   "execution_count": 17,
   "metadata": {},
   "outputs": [
    {
     "name": "stdout",
     "output_type": "stream",
     "text": [
      "12\n"
     ]
    }
   ],
   "source": [
    "t_1=T[1:-1]\n",
    "print(len(t_1))\n",
    "#print(t_1)"
   ]
  },
  {
   "cell_type": "code",
   "execution_count": 18,
   "metadata": {},
   "outputs": [],
   "source": [
    "#去掉.和对不同的=结尾进行分割,在 pc_1 上直接进行处理\n",
    "t0=['=','.']\n",
    "for i in range(len(t_1)):\n",
    "    if t_1[i][-1] in t0:\n",
    "        t_1[i]=t_1[i].rstrip('.')  #删除 string 字符串末尾的指定字符\n",
    "        t_1[i]=t_1[i].rstrip('=')  #删除 string 字符串末尾的指定字符\n",
    "for i in range(len(t_1)):\n",
    "    t_1[i]=t_1[i].split()"
   ]
  },
  {
   "cell_type": "code",
   "execution_count": 19,
   "metadata": {},
   "outputs": [],
   "source": [
    "##新建dataframe\n",
    "#month_16=['逐候平均'、'逐旬平均'、'月平均'、'月平均最高','月平均最低'、\n",
    "#          '月极端最高','月极端最低','出现时间日期']\n",
    "#print('各月气温：')\n",
    "#df_T_1=pd.DataFrame(data=ty_1,index=index,columns=month_16)\n",
    "#print(df_T_1)"
   ]
  },
  {
   "cell_type": "code",
   "execution_count": 20,
   "metadata": {},
   "outputs": [
    {
     "name": "stdout",
     "output_type": "stream",
     "text": [
      "['0115 0189 0059 0379 07 28 -147 01 16=']\n"
     ]
    }
   ],
   "source": [
    "t_2=[T[-1]]\n",
    "print(t_2)"
   ]
  },
  {
   "cell_type": "code",
   "execution_count": 21,
   "metadata": {},
   "outputs": [
    {
     "name": "stdout",
     "output_type": "stream",
     "text": [
      "1\n",
      "[['0115', '0189', '0059', '0379', '07', '28', '-147', '01', '16']]\n"
     ]
    }
   ],
   "source": [
    "t0=['=','.']\n",
    "for i in range(len(t_2)):\n",
    "    if t_2[i][-1] in t0:\n",
    "        t_2[i]=t_2[i].rstrip('.')  #删除 string 字符串末尾的指定字符\n",
    "        t_2[i]=t_2[i].rstrip('=')  #删除 string 字符串末尾的指定字符\n",
    "for i in range(len(t_2)):\n",
    "    t_2[i]=t_2[i].split()\n",
    "print(len(t_2))\n",
    "print(t_2)"
   ]
  },
  {
   "cell_type": "code",
   "execution_count": 22,
   "metadata": {},
   "outputs": [
    {
     "name": "stdout",
     "output_type": "stream",
     "text": [
      "[['11.50', '18.90', '5.90', '37.90', '07', '28', '-14.70', '01', '16']]\n"
     ]
    }
   ],
   "source": [
    "#格式转换\n",
    "for i in range(len(t_2)):\n",
    "    for j in range(len(t_2[i])):\n",
    "        if j!=4 and j!=5 and j!=7 and j!=8:\n",
    "            t_2[i][j]='%.2f' %(int(t_2[i][j])/10)\n",
    "print(t_2)"
   ]
  },
  {
   "cell_type": "code",
   "execution_count": 23,
   "metadata": {},
   "outputs": [
    {
     "name": "stdout",
     "output_type": "stream",
     "text": [
      "年气温：\n",
      "         年平均  年平均最高 年平均最低  年极端最高   月   日   年极端最低   月   日\n",
      "2019年  11.50  18.90  5.90  37.90  07  28  -14.70  01  16\n"
     ]
    }
   ],
   "source": [
    "#新建dataframe\n",
    "T_year=['年平均','年平均最高','年平均最低','年极端最高','月','日','年极端最低','月','日']\n",
    "print('年气温：')\n",
    "df_T_2=pd.DataFrame(data=t_2,index=index_1,columns=T_year)\n",
    "print(df_T_2)"
   ]
  },
  {
   "cell_type": "code",
   "execution_count": null,
   "metadata": {},
   "outputs": [],
   "source": []
  },
  {
   "cell_type": "code",
   "execution_count": null,
   "metadata": {},
   "outputs": [],
   "source": []
  },
  {
   "cell_type": "code",
   "execution_count": null,
   "metadata": {},
   "outputs": [],
   "source": []
  },
  {
   "cell_type": "code",
   "execution_count": 24,
   "metadata": {},
   "outputs": [
    {
     "name": "stdout",
     "output_type": "stream",
     "text": [
      "['E', '019 037 31 005 15', '029 055 26 008 08', '030 104 18 008 10', '083 181 25 015 01', '082 182 05 017 20', '149 263 22 030 02', '179 317 21 040 06', '189 294 06 071 17', '148 256 12 077 04', '107 196 03 035 26', '057 132 02 009 24', '031 072 16 006 31', '092 317 07 21 005 01 15=']\n"
     ]
    }
   ],
   "source": [
    "'''\n",
    "E-水汽压\n",
    "    1-12：各月平均、月最高/最低及其出现时间（5组）\n",
    "    13：年平均、年最大/最小及其出现月份、日期\n",
    "    单位：0.1hpa\n",
    "\n",
    "'''\n",
    "E=SJ[SJ.index('E'):SJ.index('U')]\n",
    "print(E)"
   ]
  },
  {
   "cell_type": "code",
   "execution_count": null,
   "metadata": {},
   "outputs": [],
   "source": []
  },
  {
   "cell_type": "code",
   "execution_count": null,
   "metadata": {},
   "outputs": [],
   "source": []
  },
  {
   "cell_type": "code",
   "execution_count": null,
   "metadata": {},
   "outputs": [],
   "source": []
  },
  {
   "cell_type": "code",
   "execution_count": 25,
   "metadata": {},
   "outputs": [
    {
     "name": "stdout",
     "output_type": "stream",
     "text": [
      "['U', '43 08 23', '53 06 05', '33 04 26', '56 05 52', '43 04 52', '58 05 02', '60 09 06', '70 10 15', '78 17 04', '81 15 30', '65 13 24', '57 12 52', '58 04 52 53=']\n"
     ]
    }
   ],
   "source": [
    "'''\n",
    "U:相对湿度\n",
    "    1-12：各月平均、月最小及其出现时间\n",
    "    13：年平均、年最小及出现的月份、日期\n",
    "\n",
    "'''\n",
    "U=SJ[SJ.index('U'):SJ.index('N')]\n",
    "print(U)"
   ]
  },
  {
   "cell_type": "code",
   "execution_count": 26,
   "metadata": {},
   "outputs": [
    {
     "name": "stdout",
     "output_type": "stream",
     "text": [
      "['43 08 23', '53 06 05', '33 04 26', '56 05 52', '43 04 52', '58 05 02', '60 09 06', '70 10 15', '78 17 04', '81 15 30', '65 13 24', '57 12 52']\n"
     ]
    }
   ],
   "source": [
    "u_1=U[1:-1]\n",
    "print(u_1)"
   ]
  },
  {
   "cell_type": "code",
   "execution_count": 27,
   "metadata": {},
   "outputs": [
    {
     "name": "stdout",
     "output_type": "stream",
     "text": [
      "12\n",
      "[['43', '08', '23'], ['53', '06', '05'], ['33', '04', '26'], ['56', '05', '52'], ['43', '04', '52'], ['58', '05', '02'], ['60', '09', '06'], ['70', '10', '15'], ['78', '17', '04'], ['81', '15', '30'], ['65', '13', '24'], ['57', '12', '52']]\n"
     ]
    }
   ],
   "source": [
    "#去掉.和对不同的=结尾进行分割,在 pc_1 上直接进行处理\n",
    "u0=['=','.']\n",
    "for i in range(len(u_1)):\n",
    "    if u_1[i][-1] in u0:\n",
    "        u_1[i]=u_1[i].rstrip('.')  #删除 string 字符串末尾的指定字符\n",
    "        u_1[i]=u_1[i].rstrip('=')  #删除 string 字符串末尾的指定字符\n",
    "for i in range(len(u_1)):\n",
    "    u_1[i]=u_1[i].split()\n",
    "print(len(u_1))\n",
    "print(u_1)"
   ]
  },
  {
   "cell_type": "code",
   "execution_count": 28,
   "metadata": {},
   "outputs": [],
   "source": [
    "u_1=np.array(u_1)\n",
    "u_1=u_1.reshape(12,-1)\n",
    "#print(u_1)"
   ]
  },
  {
   "cell_type": "code",
   "execution_count": 29,
   "metadata": {},
   "outputs": [
    {
     "name": "stdout",
     "output_type": "stream",
     "text": [
      "月相对湿度：\n",
      "          各月平均 月最小 出现日期\n",
      "2019年-1月    43  08   23\n",
      "2019年-2月    53  06   05\n",
      "2019年-3月    33  04   26\n",
      "2019年-4月    56  05   52\n",
      "2019年-5月    43  04   52\n",
      "2019年-6月    58  05   02\n",
      "2019年-7月    60  09   06\n",
      "2019年-8月    70  10   15\n",
      "2019年-9月    78  17   04\n",
      "2019年-10月   81  15   30\n",
      "2019年-11月   65  13   24\n",
      "2019年-12月   57  12   52\n"
     ]
    }
   ],
   "source": [
    "#新建dataframe\n",
    "U_month=['各月平均','月最小','出现日期']\n",
    "print('月相对湿度：')\n",
    "df_U_1=pd.DataFrame(data=u_1,index=index_12,columns=U_month)\n",
    "print(df_U_1)"
   ]
  },
  {
   "cell_type": "code",
   "execution_count": 30,
   "metadata": {},
   "outputs": [
    {
     "name": "stdout",
     "output_type": "stream",
     "text": [
      "['58 04 52 53=']\n"
     ]
    }
   ],
   "source": [
    "u_2=[U[-1]]\n",
    "print(u_2)"
   ]
  },
  {
   "cell_type": "code",
   "execution_count": 31,
   "metadata": {},
   "outputs": [
    {
     "name": "stdout",
     "output_type": "stream",
     "text": [
      "1\n"
     ]
    }
   ],
   "source": [
    "for i in range(len(u_2)):\n",
    "    if u_2[i][-1] in t0:\n",
    "        u_2[i]=u_2[i].rstrip('.')  #删除 string 字符串末尾的指定字符\n",
    "        u_2[i]=u_2[i].rstrip('=')  #删除 string 字符串末尾的指定字符\n",
    "for i in range(len(u_2)):\n",
    "    u_2[i]=u_2[i].split()\n",
    "print(len(u_2))\n",
    "#print(u_2)"
   ]
  },
  {
   "cell_type": "code",
   "execution_count": 32,
   "metadata": {},
   "outputs": [
    {
     "name": "stdout",
     "output_type": "stream",
     "text": [
      "年相对湿度：\n",
      "      年平均 年最小   月   日\n",
      "2019年  58  04  52  53\n"
     ]
    }
   ],
   "source": [
    "#新建dataframe\n",
    "U_year=['年平均','年最小','月','日']\n",
    "print('年相对湿度：')\n",
    "df_U_2=pd.DataFrame(data=u_2,index=index_1,columns=U_year)\n",
    "print(df_U_2)"
   ]
  },
  {
   "cell_type": "code",
   "execution_count": null,
   "metadata": {},
   "outputs": [],
   "source": []
  },
  {
   "cell_type": "code",
   "execution_count": null,
   "metadata": {},
   "outputs": [],
   "source": []
  },
  {
   "cell_type": "code",
   "execution_count": null,
   "metadata": {},
   "outputs": [],
   "source": []
  },
  {
   "cell_type": "code",
   "execution_count": 33,
   "metadata": {},
   "outputs": [
    {
     "name": "stdout",
     "output_type": "stream",
     "text": [
      "['N', '048 000', '063 003', '038 003', '060 006', '056 008', '068 ...', '058 ...', '059 ...', '052 ...', '064 ...', '055 ...', '032 ...', '054 004=', '011 012 008 031 ... ...', '001 017 010 026 002 ...', '010 018 003 029 002 ...', '004 016 010 027 003 ...', '004 020 007 024 007 ...', '... 020 010 ... ... ...', '003 017 011 ... ... ...', '004 017 010 ... ... ...', '004 018 008 ... ... ...', '003 016 012 ... ... ...', '009 012 009 ... ... ...', '016 011 004 ... ... ...', '069 194 102 137 014 ...=']\n"
     ]
    }
   ],
   "source": [
    "'''\n",
    "N:云量\n",
    "'''\n",
    "N=SJ[SJ.index('N'):SJ.index('R')]\n",
    "print(N)"
   ]
  },
  {
   "cell_type": "code",
   "execution_count": null,
   "metadata": {},
   "outputs": [],
   "source": []
  },
  {
   "cell_type": "code",
   "execution_count": null,
   "metadata": {},
   "outputs": [],
   "source": []
  },
  {
   "cell_type": "code",
   "execution_count": null,
   "metadata": {},
   "outputs": [],
   "source": []
  },
  {
   "cell_type": "code",
   "execution_count": 34,
   "metadata": {},
   "outputs": [],
   "source": [
    "'''\n",
    "R:降水量\n",
    "    降水量（13段）1-12：各月逐候总量、逐旬总量、月总量、日最大及其出现日期\n",
    "                  13：年总量、日最大及其出现月份、日期\n",
    "                  \n",
    "    各级降水日数（13段）：各月（年）降水>=0.1、1.0、5.0、10.0、25.0、50.0、100.0、150mm日数\n",
    "                        \n",
    "    各时段年最大降水量：分别由5、10、15、20、30、45、60、90、120、180、240、360、540、720、1440分钟的降水量\n",
    "                        和开始月、日、时、分\n",
    "    \n",
    "    最长连续降水日数（13段）1-12：各月最长连续降水日数、降水量和起止月份、日期\n",
    "                            13：最长连续降水日数、降水量和起止年、月、日\n",
    "    \n",
    "    最长连续无降水日数（13段）1-12：各月最长连续无降水日数、降水量和起止月份、日期\n",
    "                            13：最长连续降水日数、降水量和起止年、月、日\n",
    "    单位：降水量-0.1mm，降水日数-日\n",
    "    \n",
    "\n",
    "'''\n",
    "R=SJ[SJ.index('R'):SJ.index('W')]\n",
    "#print(R)"
   ]
  },
  {
   "cell_type": "code",
   "execution_count": 35,
   "metadata": {},
   "outputs": [
    {
     "name": "stdout",
     "output_type": "stream",
     "text": [
      "[13, 26, 41, 54, 67]\n"
     ]
    }
   ],
   "source": [
    "#通过等号，将数据划分成多部分\n",
    "r=[]\n",
    "for i in range(len(R)):\n",
    "    if R[i][-1]=='=':  # 若字符串最后一位为=\n",
    "        r=r+[i]\n",
    "print(r)"
   ]
  },
  {
   "cell_type": "code",
   "execution_count": 36,
   "metadata": {},
   "outputs": [
    {
     "name": "stdout",
     "output_type": "stream",
     "text": [
      "['..... ..... ..... ..... ..... 00002 ..... ..... 00002 00002 00002 31', '..... 00057 00007 00007 ..... 00001 00057 00014 00001 00072 00057 10', '00013 ..... ..... 00005 ..... ..... 00013 00005 ..... 00018 00013 02', '..... 00065 00030 00045 00029 00184 00065 00075 00213 00353 00184 27', '00041 00000 00000 00001 ..... 00039 00041 00001 00039 00081 00039 28', '00393 00000 00011 00022 00069 00087 00393 00033 00156 00582 00393 05', '..... 00164 00000 00022 00202 00067 00164 00022 00269 00455 00145 22', '00224 00119 ..... 00115 00376 00110 00343 00115 00486 00944 00170 03', '00001 00336 00929 00200 ..... 00000 00337 01129 00000 01466 00616 11', '00028 00465 00123 00055 00000 ..... 00493 00178 00000 00671 00344 06', '00008 00073 00000 00006 00004 00021 00081 00006 00025 00112 00048 09', '..... ..... 00007 ..... ..... ..... ..... 00007 ..... 00007 00004 12', '04763 00616 09 11=']\n"
     ]
    }
   ],
   "source": [
    "R_1=R[1:r[0]+1]\n",
    "print(R_1)"
   ]
  },
  {
   "cell_type": "code",
   "execution_count": 37,
   "metadata": {},
   "outputs": [
    {
     "name": "stdout",
     "output_type": "stream",
     "text": [
      "['04763 00616 09 11=']\n"
     ]
    }
   ],
   "source": [
    "R_1_2=[R_1[-1]]  #年数据\n",
    "print(R_1_2)"
   ]
  },
  {
   "cell_type": "code",
   "execution_count": 38,
   "metadata": {},
   "outputs": [
    {
     "name": "stdout",
     "output_type": "stream",
     "text": [
      "1\n"
     ]
    }
   ],
   "source": [
    "#去掉.和对不同的=结尾进行分割,在 pc_1 上直接进行处理\n",
    "r0=['=','.']\n",
    "for i in range(len(R_1_2)):\n",
    "    if R_1_2[i][-1] in r0:\n",
    "        R_1_2[i]=R_1_2[i].rstrip('.')  #删除 string 字符串末尾的指定字符\n",
    "        R_1_2[i]=R_1_2[i].rstrip('=')  #删除 string 字符串末尾的指定字符\n",
    "for i in range(len(R_1_2)):\n",
    "    R_1_2[i]=R_1_2[i].split()\n",
    "print(len(R_1_2))"
   ]
  },
  {
   "cell_type": "code",
   "execution_count": 39,
   "metadata": {},
   "outputs": [
    {
     "name": "stdout",
     "output_type": "stream",
     "text": [
      "[['476.3', '61.6', '09', '11']]\n"
     ]
    }
   ],
   "source": [
    "#格式转换\n",
    "for i in range(len(R_1_2)):\n",
    "    for j in range(len(R_1_2[i])):\n",
    "        if j == 0 or j==1:\n",
    "            R_1_2[i][j]='%.1f' %(int(R_1_2[i][j])/10)\n",
    "print(R_1_2)"
   ]
  },
  {
   "cell_type": "code",
   "execution_count": 40,
   "metadata": {},
   "outputs": [
    {
     "name": "stdout",
     "output_type": "stream",
     "text": [
      "年气温：\n",
      "         年总量   日最大 日最大出现月   日\n",
      "2019年  476.3  61.6     09  11\n"
     ]
    }
   ],
   "source": [
    "#新建dataframe\n",
    "R_year=['年总量','日最大','日最大出现月','日']\n",
    "print('年气温：')\n",
    "df_R_12=pd.DataFrame(data=R_1_2,index=index_1,columns=R_year)\n",
    "print(df_R_12)"
   ]
  },
  {
   "cell_type": "code",
   "execution_count": null,
   "metadata": {},
   "outputs": [],
   "source": []
  },
  {
   "cell_type": "code",
   "execution_count": null,
   "metadata": {},
   "outputs": [],
   "source": []
  },
  {
   "cell_type": "code",
   "execution_count": null,
   "metadata": {},
   "outputs": [],
   "source": []
  },
  {
   "cell_type": "code",
   "execution_count": 41,
   "metadata": {},
   "outputs": [
    {
     "name": "stdout",
     "output_type": "stream",
     "text": [
      "['W', '... 001 ... ... ... 009 ... 011 ... ... ... ... 001 031 ... ... ... ... 007 ... ... ... ... ... ...', '001 005 ... ... ... 013 ... 012 ... ... ... ... 005 026 ... ... ... ... 001 ... ... ... ... ... ...', '005 001 ... ... ... 004 ... 002 ... ... ... ... ... 019 ... ... ... ... ... ... ... ... ... ... ...', '010 ... 001 ... ... 009 008 ... ... ... ... ... ... 001 ... ... ... ... ... ... ... ... ... ... ...', '007 ... ... ... ... ... 001 ... ... ... ... ... ... ... ... ... ... ... ... ... ... ... ... ... ...', '012 ... ... ... ... 005 002 ... ... ... ... ... ... ... ... ... ... ... ... ... ... ... ... 001 ...', '013 ... 001 ... ... 003 002 ... ... ... ... ... ... ... ... ... ... ... ... ... ... ... ... ... ...', '013 ... ... ... ... 011 008 ... ... ... ... ... ... ... ... ... ... ... ... ... ... ... ... ... ...', '013 ... ... ... ... 010 014 ... ... ... ... ... ... ... ... ... ... ... ... ... ... ... ... ... ...', '012 ... ... ... 001 015 019 ... ... ... ... ... ... ... ... ... ... ... ... ... ... ... ... ... ...', '012 004 ... ... 001 011 007 009 ... ... ... ... 001 014 ... ... ... ... ... ... ... ... ... ... ...', '003 003 ... ... ... 014 ... 022 ... ... ... ... ... 031 ... ... ... ... ... ... ... ... ... ... ...', '101 014 002 ... 002 104 061 056 ... ... ... ... 007 122 ... ... ... ... 008 ... ... ... ... 001 ...=', '10 09 03 05 148 11 10', '11 16 03 01 106 11 17', '11 16 02 15 092 11 30', '11 08 04 01 145 11 11', '10 10 04 01 174 11 10', '10 10 04 01 174 10 26', '10 09 05 20 224 10 08', '.. .. .. .. ...', '249=']\n"
     ]
    }
   ],
   "source": [
    "'''\n",
    "W（天气现象）\n",
    "'''\n",
    "W=SJ[SJ.index('W'):SJ.index('L')]\n",
    "print(W)"
   ]
  },
  {
   "cell_type": "code",
   "execution_count": null,
   "metadata": {},
   "outputs": [],
   "source": []
  },
  {
   "cell_type": "code",
   "execution_count": null,
   "metadata": {},
   "outputs": [],
   "source": []
  },
  {
   "cell_type": "code",
   "execution_count": null,
   "metadata": {},
   "outputs": [],
   "source": []
  },
  {
   "cell_type": "code",
   "execution_count": 42,
   "metadata": {},
   "outputs": [
    {
     "name": "stdout",
     "output_type": "stream",
     "text": [
      "['L', '00509 .....', '00657 .....', '01833 .....', '01997 .....', '..... 01595', '..... 01422', '..... 01570', '..... 01273', '..... 00779', '..... 00541', '00691 .....', '00512 .....', '///// /////=']\n"
     ]
    }
   ],
   "source": [
    "'''\n",
    "L（蒸发量）\n",
    "\n",
    "'''\n",
    "L=SJ[SJ.index('L'):SJ.index('Z')]\n",
    "print(L)"
   ]
  },
  {
   "cell_type": "code",
   "execution_count": null,
   "metadata": {},
   "outputs": [],
   "source": []
  },
  {
   "cell_type": "code",
   "execution_count": null,
   "metadata": {},
   "outputs": [],
   "source": []
  },
  {
   "cell_type": "code",
   "execution_count": null,
   "metadata": {},
   "outputs": [],
   "source": []
  },
  {
   "cell_type": "code",
   "execution_count": 43,
   "metadata": {},
   "outputs": [
    {
     "name": "stdout",
     "output_type": "stream",
     "text": [
      "['Z', '001 31 ... ..', '006 10 ... ..', '... .. ... ..', '... .. ... ..', '... .. ... ..', '... .. ... ..', '... .. ... ..', '... .. ... ..', '... .. ... ..', '... .. ... ..', '001 30 ... ..', '... .. ... ..', '006 02 10 ... .. ..=']\n"
     ]
    }
   ],
   "source": [
    "'''\n",
    "Z（积雪）\n",
    "\n",
    "'''\n",
    "Z=SJ[SJ.index('Z'):SJ.index('G')]\n",
    "print(Z)"
   ]
  },
  {
   "cell_type": "code",
   "execution_count": null,
   "metadata": {},
   "outputs": [],
   "source": []
  },
  {
   "cell_type": "code",
   "execution_count": null,
   "metadata": {},
   "outputs": [],
   "source": []
  },
  {
   "cell_type": "code",
   "execution_count": null,
   "metadata": {},
   "outputs": [],
   "source": []
  },
  {
   "cell_type": "code",
   "execution_count": 44,
   "metadata": {},
   "outputs": [
    {
     "name": "stdout",
     "output_type": "stream",
     "text": [
      "['G', '.... ... ... ..... .. ... ... ..... .. .... ... ...', '.... ... ... ..... .. ... ... ..... .. .... ... ...', '.... ... ... ..... .. ... ... ..... .. .... ... ...', '.... ... ... ..... .. ... ... ..... .. .... ... ...', '.... ... ... ..... .. ... ... ..... .. .... ... ...', '.... ... ... ..... .. ... ... ..... .. .... ... ...', '.... ... ... ..... .. ... ... ..... .. .... ... ...', '.... ... ... ..... .. ... ... ..... .. .... ... ...', '.... ... ... ..... .. ... ... ..... .. .... ... ...', '.... ... ... ..... .. ... ... ..... .. .... ... ...', '.... ... ... ..... .. ... ... ..... .. .... ... ...', '.... ... ... ..... .. ... ... ..... .. .... ... ...', '.... ... ... ..... .. .. ... ... ..... .. .. .... ... ...=']\n"
     ]
    }
   ],
   "source": [
    "'''\n",
    "G（电线积冰）\n",
    "'''\n",
    "G=SJ[SJ.index('G'):SJ.index('F')]\n",
    "print(G)"
   ]
  },
  {
   "cell_type": "code",
   "execution_count": null,
   "metadata": {},
   "outputs": [],
   "source": []
  },
  {
   "cell_type": "code",
   "execution_count": null,
   "metadata": {},
   "outputs": [],
   "source": []
  },
  {
   "cell_type": "code",
   "execution_count": null,
   "metadata": {},
   "outputs": [],
   "source": []
  },
  {
   "cell_type": "code",
   "execution_count": 45,
   "metadata": {},
   "outputs": [],
   "source": [
    "'''\n",
    "F（风）\n",
    "    风速：  1-12：各月平均风速、月最大风速、风向、出现日期，月极大风速、风向、出现日期\n",
    "            13：年平均风速、年最大风速、风向、出现月份、日期，年极大风速、风向、出现月份、日期\n",
    "    \n",
    "    风的统计：1-48：各月16方位风的统计，每月4组方位的风速合计、出现回数、平均风速、风向频率、最大风速、\n",
    "              49-60：各月静风（C）的统计，出现次数、风向频率\n",
    "              61-64：年风速合计、出现回数、平均风速、风向频率、最大风速及出现月份\n",
    "              65：静风的年合计、风向频率\n",
    "    \n",
    "    最多风向：各月的最多风向、频率和次多风向、频率\n",
    "    \n",
    "    单位：0.1m/s、回、%\n",
    "\n",
    "'''\n",
    "F=SJ[SJ.index('F'):SJ.index('D')]\n",
    "#print(F)"
   ]
  },
  {
   "cell_type": "code",
   "execution_count": 46,
   "metadata": {},
   "outputs": [
    {
     "name": "stdout",
     "output_type": "stream",
     "text": [
      "[13, 78, 91]\n"
     ]
    }
   ],
   "source": [
    "f=[]\n",
    "for i in range(len(F)):\n",
    "    if F[i][-1]=='=':  # 若字符串最后一位为=\n",
    "        f=f+[i]\n",
    "print(f)"
   ]
  },
  {
   "cell_type": "code",
   "execution_count": 47,
   "metadata": {},
   "outputs": [
    {
     "name": "stdout",
     "output_type": "stream",
     "text": [
      "92\n"
     ]
    }
   ],
   "source": [
    "#去掉.和对不同的=结尾进行分割,在 pc_1 上直接进行处理\n",
    "f0=['=','.']\n",
    "for i in range(len(F)):\n",
    "    if F[i][-1] in f0:\n",
    "        F[i]=F[i].rstrip('.')  #删除 string 字符串末尾的指定字符\n",
    "        F[i]=F[i].rstrip('=')  #删除 string 字符串末尾的指定字符\n",
    "for i in range(len(F)):\n",
    "    F[i]=F[i].split()\n",
    "print(len(F))\n",
    "#print(F)"
   ]
  },
  {
   "cell_type": "code",
   "execution_count": 48,
   "metadata": {},
   "outputs": [
    {
     "name": "stdout",
     "output_type": "stream",
     "text": [
      "13\n",
      "[['019', '060', 'PNW', '31', '105', 'PPN', '14'], ['020', '060', 'PSW', '16', '095', 'NNW', '02'], ['022', '089', 'PNW', '20', '146', 'PNW', '20'], ['023', '078', 'PSE', '15', '155', 'NNW', '24'], ['024', '083', 'PNE', '05', '162', 'NNW', '19'], ['022', '121', 'WSW', '03', '223', 'WSW', '03'], ['022', '089', 'PPS', '28', '164', 'PSE', '28'], ['019', '094', 'PPE', '01', '152', 'ENE', '01'], ['020', '071', 'PPE', '01', '120', 'ENE', '01'], ['019', '063', 'PNW', '28', '112', 'PNW', '28'], ['021', '092', 'NNW', '17', '157', 'PPW', '09'], ['020', '066', 'PNW', '25', '116', 'NNW', '25'], ['021', '121', 'WSW', '06', '03', '223', 'WSW', '06', '03']]\n"
     ]
    }
   ],
   "source": [
    "#F_1 第一组\n",
    "F_1=F[1:f[0]+1]\n",
    "print(len(F_1))\n",
    "print(F_1)"
   ]
  },
  {
   "cell_type": "code",
   "execution_count": 49,
   "metadata": {},
   "outputs": [
    {
     "name": "stdout",
     "output_type": "stream",
     "text": [
      "12\n",
      "[['019', '060', 'PNW', '31', '105', 'PPN', '14'], ['020', '060', 'PSW', '16', '095', 'NNW', '02'], ['022', '089', 'PNW', '20', '146', 'PNW', '20'], ['023', '078', 'PSE', '15', '155', 'NNW', '24'], ['024', '083', 'PNE', '05', '162', 'NNW', '19'], ['022', '121', 'WSW', '03', '223', 'WSW', '03'], ['022', '089', 'PPS', '28', '164', 'PSE', '28'], ['019', '094', 'PPE', '01', '152', 'ENE', '01'], ['020', '071', 'PPE', '01', '120', 'ENE', '01'], ['019', '063', 'PNW', '28', '112', 'PNW', '28'], ['021', '092', 'NNW', '17', '157', 'PPW', '09'], ['020', '066', 'PNW', '25', '116', 'NNW', '25']]\n"
     ]
    }
   ],
   "source": [
    "#月数据\n",
    "F_1_1=F_1[0:-1]\n",
    "print(len(F_1_1))\n",
    "print(F_1_1)"
   ]
  },
  {
   "cell_type": "code",
   "execution_count": 50,
   "metadata": {},
   "outputs": [
    {
     "name": "stdout",
     "output_type": "stream",
     "text": [
      "[['1.9', '6.0', 'PNW', '31', '10.5', 'PPN', '14'], ['2.0', '6.0', 'PSW', '16', '9.5', 'NNW', '02'], ['2.2', '8.9', 'PNW', '20', '14.6', 'PNW', '20'], ['2.3', '7.8', 'PSE', '15', '15.5', 'NNW', '24'], ['2.4', '8.3', 'PNE', '05', '16.2', 'NNW', '19'], ['2.2', '12.1', 'WSW', '03', '22.3', 'WSW', '03'], ['2.2', '8.9', 'PPS', '28', '16.4', 'PSE', '28'], ['1.9', '9.4', 'PPE', '01', '15.2', 'ENE', '01'], ['2.0', '7.1', 'PPE', '01', '12.0', 'ENE', '01'], ['1.9', '6.3', 'PNW', '28', '11.2', 'PNW', '28'], ['2.1', '9.2', 'NNW', '17', '15.7', 'PPW', '09'], ['2.0', '6.6', 'PNW', '25', '11.6', 'NNW', '25']]\n"
     ]
    }
   ],
   "source": [
    "#格式转换\n",
    "for i in range(len(F_1_1)):\n",
    "    for j in range(len(F_1_1[i])):\n",
    "        if j == 0 or j==1 or j==4:\n",
    "            F_1_1[i][j]='%.1f' %(int(F_1_1[i][j])/10)\n",
    "print(F_1_1) "
   ]
  },
  {
   "cell_type": "code",
   "execution_count": 51,
   "metadata": {},
   "outputs": [
    {
     "name": "stdout",
     "output_type": "stream",
     "text": [
      "月风速：\n",
      "          各月平均风速 月最大风速   风向  日期 月极大风速   风向  日期\n",
      "2019年-1月     1.9   6.0  PNW  31  10.5  PPN  14\n",
      "2019年-2月     2.0   6.0  PSW  16   9.5  NNW  02\n",
      "2019年-3月     2.2   8.9  PNW  20  14.6  PNW  20\n",
      "2019年-4月     2.3   7.8  PSE  15  15.5  NNW  24\n",
      "2019年-5月     2.4   8.3  PNE  05  16.2  NNW  19\n",
      "2019年-6月     2.2  12.1  WSW  03  22.3  WSW  03\n",
      "2019年-7月     2.2   8.9  PPS  28  16.4  PSE  28\n",
      "2019年-8月     1.9   9.4  PPE  01  15.2  ENE  01\n",
      "2019年-9月     2.0   7.1  PPE  01  12.0  ENE  01\n",
      "2019年-10月    1.9   6.3  PNW  28  11.2  PNW  28\n",
      "2019年-11月    2.1   9.2  NNW  17  15.7  PPW  09\n",
      "2019年-12月    2.0   6.6  PNW  25  11.6  NNW  25\n"
     ]
    }
   ],
   "source": [
    "#新建dataframe\n",
    "F_month=['各月平均风速','月最大风速','风向','日期','月极大风速','风向','日期']\n",
    "print('月风速：')\n",
    "df_F_11=pd.DataFrame(data=F_1_1,index=index_12,columns=F_month)\n",
    "print(df_F_11)"
   ]
  },
  {
   "cell_type": "code",
   "execution_count": null,
   "metadata": {},
   "outputs": [],
   "source": []
  },
  {
   "cell_type": "code",
   "execution_count": 52,
   "metadata": {},
   "outputs": [
    {
     "name": "stdout",
     "output_type": "stream",
     "text": [
      "[['021', '121', 'WSW', '06', '03', '223', 'WSW', '06', '03']]\n"
     ]
    }
   ],
   "source": [
    "#年数据\n",
    "F_1_2=[F_1[-1]]\n",
    "print(F_1_2)"
   ]
  },
  {
   "cell_type": "code",
   "execution_count": 53,
   "metadata": {},
   "outputs": [
    {
     "name": "stdout",
     "output_type": "stream",
     "text": [
      "[['2.1', '12.1', 'WSW', '06', '03', '22.3', 'WSW', '06', '03']]\n"
     ]
    }
   ],
   "source": [
    "#格式转换\n",
    "for i in range(len(F_1_2)):\n",
    "    for j in range(len(F_1_2[i])):\n",
    "        if j == 0 or j==1 or j==5:\n",
    "            F_1_2[i][j]='%.1f' %(int(F_1_2[i][j])/10)\n",
    "print(F_1_2)           "
   ]
  },
  {
   "cell_type": "code",
   "execution_count": 54,
   "metadata": {},
   "outputs": [
    {
     "name": "stdout",
     "output_type": "stream",
     "text": [
      "年气温：\n",
      "      年平均风速 年最大风速   风向  月份  日期 年极大风速   风向  月份  日期\n",
      "2019年   2.1  12.1  WSW  06  03  22.3  WSW  06  03\n"
     ]
    }
   ],
   "source": [
    "#新建dataframe\n",
    "F_year=['年平均风速','年最大风速','风向','月份','日期','年极大风速','风向','月份','日期']\n",
    "print('年气温：')\n",
    "df_F_12=pd.DataFrame(data=F_1_2,index=index_1,columns=F_year)\n",
    "print(df_F_12)"
   ]
  },
  {
   "cell_type": "code",
   "execution_count": null,
   "metadata": {},
   "outputs": [],
   "source": []
  },
  {
   "cell_type": "code",
   "execution_count": null,
   "metadata": {},
   "outputs": [],
   "source": []
  },
  {
   "cell_type": "code",
   "execution_count": null,
   "metadata": {},
   "outputs": [],
   "source": []
  },
  {
   "cell_type": "code",
   "execution_count": 55,
   "metadata": {},
   "outputs": [
    {
     "name": "stdout",
     "output_type": "stream",
     "text": [
      "['D', '-032 0119 -104 0186 23 -148 17 031', '0001 0137 -058 0239 24 -130 01 028', '0095 0312 -016 0417 26 -057 14 024', '0171 0369 0067 0512 17 -020 01 001', '0236 0467 0105 0634 25 0043 20 ...', '0266 0427 0171 0629 03 0135 02 ...', '0297 0499 0189 0637 07 0120 07 ...', '0263 0396 0189 0546 15 0116 29 ...', '0201 0347 0127 0521 08 0083 26 ...', '0124 0233 0067 0369 02 -007 52 005', '0054 0172 -003 0273 04 -074 25 018', '-004 0114 -058 0178 09 -118 31 031', '0139 0299 0056 0637 07 07 -148 01 17 138=', '-027 -025 -019 -016 -004', '-002 -005 -004 -004 0014', '0083 0079 0078 0074 0071', '0156 0151 0150 0146 0133', '0213 0205 0203 0199 0180', '0251 0246 0247 0244 0227', '0278 0273 0273 0269 0249', '0257 0256 0259 0258 0250', '0197 0198 0202 0204 0209', '0127 0131 0138 0142 0158', '0059 0064 0072 0077 0097', '-003 0000 0008 0014 0036', '0132 0131 0134 0134 0135=']\n"
     ]
    }
   ],
   "source": [
    "'''\n",
    "D：浅层地温\n",
    "    地面温度（13段）：1-12 ：各月的月平均、月平均最高/最低、月极端最高/最低及其出现日期、日最低<=0.0日数（8组）\n",
    "                      13：年\n",
    "    浅层地温（13段）：1-12：各月的5、10、15、20、40cm平均地温\n",
    "                      13：年\n",
    "'''\n",
    "D=SJ[SJ.index('D'):SJ.index('K')]\n",
    "print(D)"
   ]
  },
  {
   "cell_type": "code",
   "execution_count": 56,
   "metadata": {},
   "outputs": [
    {
     "name": "stdout",
     "output_type": "stream",
     "text": [
      "[13, 26]\n"
     ]
    }
   ],
   "source": [
    "d=[]\n",
    "for i in range(len(D)):\n",
    "    if D[i][-1]=='=':  # 若字符串最后一位为=\n",
    "        d=d+[i]\n",
    "print(d)"
   ]
  },
  {
   "cell_type": "code",
   "execution_count": 57,
   "metadata": {},
   "outputs": [
    {
     "name": "stdout",
     "output_type": "stream",
     "text": [
      "27\n"
     ]
    }
   ],
   "source": [
    "d0=['=','.']\n",
    "for i in range(len(D)):\n",
    "    if D[i][-1] in d0:\n",
    "        D[i]=D[i].rstrip('.')  #删除 string 字符串末尾的指定字符\n",
    "        D[i]=D[i].rstrip('=')  #删除 string 字符串末尾的指定字符\n",
    "for i in range(len(D)):\n",
    "    D[i]=D[i].split()\n",
    "print(len(D))"
   ]
  },
  {
   "cell_type": "code",
   "execution_count": 58,
   "metadata": {},
   "outputs": [
    {
     "name": "stdout",
     "output_type": "stream",
     "text": [
      "[['D'], ['-032', '0119', '-104', '0186', '23', '-148', '17', '031'], ['0001', '0137', '-058', '0239', '24', '-130', '01', '028'], ['0095', '0312', '-016', '0417', '26', '-057', '14', '024'], ['0171', '0369', '0067', '0512', '17', '-020', '01', '001'], ['0236', '0467', '0105', '0634', '25', '0043', '20'], ['0266', '0427', '0171', '0629', '03', '0135', '02'], ['0297', '0499', '0189', '0637', '07', '0120', '07'], ['0263', '0396', '0189', '0546', '15', '0116', '29'], ['0201', '0347', '0127', '0521', '08', '0083', '26'], ['0124', '0233', '0067', '0369', '02', '-007', '52', '005'], ['0054', '0172', '-003', '0273', '04', '-074', '25', '018'], ['-004', '0114', '-058', '0178', '09', '-118', '31', '031'], ['0139', '0299', '0056', '0637', '07', '07', '-148', '01', '17', '138'], ['-027', '-025', '-019', '-016', '-004'], ['-002', '-005', '-004', '-004', '0014'], ['0083', '0079', '0078', '0074', '0071'], ['0156', '0151', '0150', '0146', '0133'], ['0213', '0205', '0203', '0199', '0180'], ['0251', '0246', '0247', '0244', '0227'], ['0278', '0273', '0273', '0269', '0249'], ['0257', '0256', '0259', '0258', '0250'], ['0197', '0198', '0202', '0204', '0209'], ['0127', '0131', '0138', '0142', '0158'], ['0059', '0064', '0072', '0077', '0097'], ['-003', '0000', '0008', '0014', '0036'], ['0132', '0131', '0134', '0134', '0135']]\n"
     ]
    }
   ],
   "source": [
    "print(D)"
   ]
  },
  {
   "cell_type": "code",
   "execution_count": 59,
   "metadata": {},
   "outputs": [
    {
     "name": "stdout",
     "output_type": "stream",
     "text": [
      "13\n",
      "[['-027', '-025', '-019', '-016', '-004'], ['-002', '-005', '-004', '-004', '0014'], ['0083', '0079', '0078', '0074', '0071'], ['0156', '0151', '0150', '0146', '0133'], ['0213', '0205', '0203', '0199', '0180'], ['0251', '0246', '0247', '0244', '0227'], ['0278', '0273', '0273', '0269', '0249'], ['0257', '0256', '0259', '0258', '0250'], ['0197', '0198', '0202', '0204', '0209'], ['0127', '0131', '0138', '0142', '0158'], ['0059', '0064', '0072', '0077', '0097'], ['-003', '0000', '0008', '0014', '0036'], ['0132', '0131', '0134', '0134', '0135']]\n"
     ]
    }
   ],
   "source": [
    "#浅层地温\n",
    "D_2=D[d[0]+1:d[1]+1]\n",
    "print(len(D_2))\n",
    "print(D_2)"
   ]
  },
  {
   "cell_type": "code",
   "execution_count": 60,
   "metadata": {},
   "outputs": [
    {
     "name": "stdout",
     "output_type": "stream",
     "text": [
      "[['0132', '0131', '0134', '0134', '0135']]\n"
     ]
    }
   ],
   "source": [
    "#浅层地温 年数据\n",
    "D_2_2=[D_2[-1]]\n",
    "print(D_2_2)"
   ]
  },
  {
   "cell_type": "code",
   "execution_count": 61,
   "metadata": {},
   "outputs": [],
   "source": [
    "#格式转换\n",
    "for i in range(len(D_2_2)):\n",
    "    for j in range(len(D_2_2[i])):\n",
    "        D_2_2[i][j]='%.2f' %(int(D_2_2[i][j])/10)"
   ]
  },
  {
   "cell_type": "code",
   "execution_count": 62,
   "metadata": {},
   "outputs": [
    {
     "name": "stdout",
     "output_type": "stream",
     "text": [
      "年浅层地温：\n",
      "       5cm地温 10cm地温 15cm地温 20cm地温 40cm地温\n",
      "2019年  13.20  13.10  13.40  13.40  13.50\n"
     ]
    }
   ],
   "source": [
    "#新建dataframe\n",
    "D_year=['5cm地温','10cm地温','15cm地温','20cm地温','40cm地温',]\n",
    "print('年浅层地温：')\n",
    "df_D_22=pd.DataFrame(data=D_2_2,index=index_1,columns=D_year)\n",
    "print(df_D_22)"
   ]
  },
  {
   "cell_type": "code",
   "execution_count": null,
   "metadata": {},
   "outputs": [],
   "source": []
  },
  {
   "cell_type": "code",
   "execution_count": null,
   "metadata": {},
   "outputs": [],
   "source": []
  },
  {
   "cell_type": "code",
   "execution_count": null,
   "metadata": {},
   "outputs": [],
   "source": []
  },
  {
   "cell_type": "code",
   "execution_count": 63,
   "metadata": {},
   "outputs": [
    {
     "name": "stdout",
     "output_type": "stream",
     "text": [
      "['K', '0019 0069 0126', '0024 0057 0111', '0064 0068 0102', '0119 0099 0104', '0161 0131 0113', '0209 0169 0128', '0230 0192 0145', '0241 0209 0159', '0210 0203 0169', '0169 0181 0169', '0116 0147 0162', '0060 0106 0147', '0135 0136 0136=']\n"
     ]
    }
   ],
   "source": [
    "K=SJ[SJ.index('K'):SJ.index('A')]\n",
    "print(K)"
   ]
  },
  {
   "cell_type": "code",
   "execution_count": null,
   "metadata": {},
   "outputs": [],
   "source": []
  },
  {
   "cell_type": "code",
   "execution_count": null,
   "metadata": {},
   "outputs": [],
   "source": []
  },
  {
   "cell_type": "code",
   "execution_count": null,
   "metadata": {},
   "outputs": [],
   "source": []
  },
  {
   "cell_type": "code",
   "execution_count": 64,
   "metadata": {},
   "outputs": [
    {
     "name": "stdout",
     "output_type": "stream",
     "text": [
      "['A', '0048 52', '0038 01', '.... ..', '.... ..', '.... ..', '.... ..', '.... ..', '.... ..', '.... ..', '.... ..', '.... ..', '0011 31', '0048 01 502=']\n"
     ]
    }
   ],
   "source": [
    "A=SJ[SJ.index('A'):SJ.index('S')]\n",
    "print(A)"
   ]
  },
  {
   "cell_type": "code",
   "execution_count": null,
   "metadata": {},
   "outputs": [],
   "source": []
  },
  {
   "cell_type": "code",
   "execution_count": null,
   "metadata": {},
   "outputs": [],
   "source": []
  },
  {
   "cell_type": "code",
   "execution_count": null,
   "metadata": {},
   "outputs": [],
   "source": []
  },
  {
   "cell_type": "code",
   "execution_count": 65,
   "metadata": {},
   "outputs": [
    {
     "name": "stdout",
     "output_type": "stream",
     "text": [
      "['S', '00282 00502 00498 01282 42 011 010', '00363 00466 00283 01112 37 010 010', '00565 00776 00902 02243 61 020 003', '00524 00625 00637 01786 46 014 011', '00440 00738 00921 02099 48 015 008', '00864 00484 00362 01710 39 007 010', '00861 00369 00883 02113 48 014 009', '00528 00969 00470 01967 47 015 010', '00808 00148 00921 01877 50 015 010', '00267 00470 00657 01394 40 012 013', '00522 00593 00352 01467 48 013 010', '00868 00483 00706 02057 68 022 004', '21107 48 168 108=']\n"
     ]
    }
   ],
   "source": [
    "S=SJ[SJ.index('S'):SJ.index('B')]\n",
    "print(S)"
   ]
  },
  {
   "cell_type": "code",
   "execution_count": 66,
   "metadata": {},
   "outputs": [
    {
     "name": "stdout",
     "output_type": "stream",
     "text": [
      "14\n"
     ]
    }
   ],
   "source": [
    "#去掉.和对不同的=结尾进行分割,在 pc_1 上直接进行处理\n",
    "s0=['=','.']\n",
    "for i in range(len(S)):\n",
    "    if S[i][-1] in s0:\n",
    "        S[i]=S[i].rstrip('.')  #删除 string 字符串末尾的指定字符\n",
    "        S[i]=S[i].rstrip('=')  #删除 string 字符串末尾的指定字符\n",
    "for i in range(len(S)):\n",
    "    S[i]=S[i].split()\n",
    "print(len(S))"
   ]
  },
  {
   "cell_type": "code",
   "execution_count": 67,
   "metadata": {},
   "outputs": [
    {
     "name": "stdout",
     "output_type": "stream",
     "text": [
      "[['21107', '48', '168', '108']]\n"
     ]
    }
   ],
   "source": [
    "#年数据\n",
    "S_2=[S[-1]]\n",
    "print(S_2)"
   ]
  },
  {
   "cell_type": "code",
   "execution_count": 68,
   "metadata": {},
   "outputs": [],
   "source": [
    "#格式转换\n",
    "for i in range(len(S_2)):\n",
    "    for j in range(len(S_2[i])):\n",
    "        if j != 1:\n",
    "            S_2[i][j]='%.1f' %(int(S_2[i][j])/10)"
   ]
  },
  {
   "cell_type": "code",
   "execution_count": 69,
   "metadata": {},
   "outputs": [
    {
     "name": "stdout",
     "output_type": "stream",
     "text": [
      "本站气压：\n",
      "          年合计 百分率 年>=60%日数 年<=20%日数\n",
      "2019年  2110.7  48     16.8     10.8\n"
     ]
    }
   ],
   "source": [
    "#新建dataframe\n",
    "S_year=['年合计','百分率','年>=60%日数','年<=20%日数']\n",
    "print('本站气压：')\n",
    "df_S_2=pd.DataFrame(data=S_2,index=index_1,columns=S_year)\n",
    "print(df_S_2)"
   ]
  },
  {
   "cell_type": "code",
   "execution_count": null,
   "metadata": {},
   "outputs": [],
   "source": []
  },
  {
   "cell_type": "code",
   "execution_count": null,
   "metadata": {},
   "outputs": [],
   "source": []
  },
  {
   "cell_type": "code",
   "execution_count": null,
   "metadata": {},
   "outputs": [],
   "source": []
  },
  {
   "cell_type": "code",
   "execution_count": 70,
   "metadata": {},
   "outputs": [
    {
     "name": "stdout",
     "output_type": "stream",
     "text": [
      "['B', '-051 0149 -155 0245 22 -219 16 031', '-006 0195 -109 0302 24 -206 01 028', '0089 0346 -064 0462 26 -127 06 028', '0163 0385 0039 0508 18 -086 01 009', '0221 0467 0074 0590 25 -035 20 001', '0261 0455 0148 0551 03 0106 03 ...', '0284 0470 0170 0546 01 0090 01 ...', '0255 0420 0159 0527 15 0077 30 ...', '0193 0351 0103 0476 08 0038 26 ...', '0121 0262 0043 0375 02 -049 31 009', '0050 0196 -032 0303 04 -132 18 024', '-011 0140 -096 0227 09 -148 02 031', '0131 0320 0023 0590 05 25 -219 01 16 161=']\n"
     ]
    }
   ],
   "source": [
    "B=SJ[SJ.index('B'):SJ.index('??????')]\n",
    "print(B)"
   ]
  },
  {
   "cell_type": "code",
   "execution_count": null,
   "metadata": {},
   "outputs": [],
   "source": []
  },
  {
   "cell_type": "code",
   "execution_count": null,
   "metadata": {},
   "outputs": [],
   "source": []
  },
  {
   "cell_type": "code",
   "execution_count": null,
   "metadata": {},
   "outputs": [],
   "source": []
  },
  {
   "cell_type": "code",
   "execution_count": null,
   "metadata": {},
   "outputs": [],
   "source": []
  },
  {
   "cell_type": "code",
   "execution_count": null,
   "metadata": {},
   "outputs": [],
   "source": []
  },
  {
   "cell_type": "code",
   "execution_count": 71,
   "metadata": {},
   "outputs": [
    {
     "name": "stdout",
     "output_type": "stream",
     "text": [
      "Y53859-2019.xlsx\n"
     ]
    }
   ],
   "source": [
    "filename='Y'+station[0]+'-'+station[-1]+'.'+'xlsx'\n",
    "print(filename)"
   ]
  },
  {
   "cell_type": "code",
   "execution_count": 72,
   "metadata": {},
   "outputs": [
    {
     "name": "stdout",
     "output_type": "stream",
     "text": [
      "导入excel成功\n"
     ]
    }
   ],
   "source": [
    "'''\n",
    "保存，将多个保存在一个excel中\n",
    "\n",
    "'''\n",
    "from openpyxl import load_workbook\n",
    " \n",
    "writer = pd.ExcelWriter(filename)\n",
    "\n",
    "df_station.to_excel(excel_writer=writer,sheet_name=\"站点信息\")\n",
    "\n",
    "df_D_22.to_excel(excel_writer=writer,sheet_name=\"年浅层地温\")\n",
    "\n",
    "df_R_12.to_excel(excel_writer=writer,sheet_name=\"年降水量\")\n",
    "\n",
    "df_S_2.to_excel(excel_writer=writer,sheet_name=\"年光照\")\n",
    "\n",
    "df_F_11.to_excel(excel_writer=writer,sheet_name=\"月风速、风向\")\n",
    "df_F_12.to_excel(excel_writer=writer,sheet_name=\"年风速、风向\")\n",
    "\n",
    "df_T_2.to_excel(excel_writer=writer,sheet_name=\"年气温\")\n",
    "\n",
    "df_U_1.to_excel(excel_writer=writer,sheet_name=\"月相对湿度\")\n",
    "df_U_2.to_excel(excel_writer=writer,sheet_name=\"年相对湿度\")\n",
    "\n",
    "\n",
    "writer.save()\n",
    "writer.close()\n",
    "print('导入excel成功')"
   ]
  },
  {
   "cell_type": "code",
   "execution_count": null,
   "metadata": {},
   "outputs": [],
   "source": []
  }
 ],
 "metadata": {
  "kernelspec": {
   "display_name": "Python 3",
   "language": "python",
   "name": "python3"
  },
  "language_info": {
   "codemirror_mode": {
    "name": "ipython",
    "version": 3
   },
   "file_extension": ".py",
   "mimetype": "text/x-python",
   "name": "python",
   "nbconvert_exporter": "python",
   "pygments_lexer": "ipython3",
   "version": "3.6.3rc1"
  }
 },
 "nbformat": 4,
 "nbformat_minor": 2
}
