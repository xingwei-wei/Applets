{
 "cells": [
  {
   "cell_type": "code",
   "execution_count": 2,
   "metadata": {},
   "outputs": [],
   "source": [
    "import pandas as pd\n",
    "from pyecharts.charts import Map\n",
    "from pyecharts import options as opts\n",
    "from pyecharts.charts import Timeline"
   ]
  },
  {
   "cell_type": "code",
   "execution_count": 15,
   "metadata": {},
   "outputs": [],
   "source": [
    "inputfile=r'F:\\jupyter-notebook\\可视化\\地图可视化\\新冠-武汉\\疫情动态.xlsx'\n",
    "data=pd.read_excel(inputfile,sheet_name='2')\n",
    "attr=data.columns.tolist()"
   ]
  },
  {
   "cell_type": "code",
   "execution_count": 16,
   "metadata": {},
   "outputs": [],
   "source": [
    "n=len(data.index)"
   ]
  },
  {
   "cell_type": "code",
   "execution_count": 23,
   "metadata": {},
   "outputs": [],
   "source": [
    "def map_visualmap(sequence,date):\n",
    "    c=(\n",
    "        Map()\n",
    "        .add(date,sequence,maptype='china')\n",
    "        .set_global_opts(\n",
    "                        title_opts=opts.TitleOpts(title='全国疫情动态图'),\n",
    "                        visualmap_opts=opts.VisualMapOpts(),\n",
    "                        )\n",
    "    )\n",
    "    return c"
   ]
  },
  {
   "cell_type": "code",
   "execution_count": 25,
   "metadata": {},
   "outputs": [],
   "source": [
    "#创建时间轴\n",
    "timeline=Timeline()\n",
    "\n",
    "for i in range(n):\n",
    "    #取每日数据\n",
    "    row=data.iloc[i,].tolist()\n",
    "    #将数据转化为二元的列表\n",
    "    sequence_temp=list(zip(attr,row))\n",
    "    #对日期格式化以便处理\n",
    "    time=\"{}\".format(data.index[i],'%Y-%m-%d')\n",
    "    #创建地图\n",
    "    map_temp=map_visualmap(sequence_temp,time)\n",
    "    #将地图加入时间轴对象\n",
    "    timeline.add(map_temp,time).add_schema()#play_inverval=360)"
   ]
  },
  {
   "cell_type": "code",
   "execution_count": 26,
   "metadata": {},
   "outputs": [
    {
     "data": {
      "text/plain": [
       "'F:\\\\jupyter-notebook\\\\可视化\\\\地图可视化\\\\新冠-武汉\\\\全国疫情动态地图.html'"
      ]
     },
     "execution_count": 26,
     "metadata": {},
     "output_type": "execute_result"
    }
   ],
   "source": [
    "# 通过render()方法将地图渲染为html\n",
    "timeline.render('全国疫情动态地图.html')"
   ]
  },
  {
   "cell_type": "code",
   "execution_count": null,
   "metadata": {},
   "outputs": [],
   "source": []
  }
 ],
 "metadata": {
  "kernelspec": {
   "display_name": "Python 3",
   "language": "python",
   "name": "python3"
  },
  "language_info": {
   "codemirror_mode": {
    "name": "ipython",
    "version": 3
   },
   "file_extension": ".py",
   "mimetype": "text/x-python",
   "name": "python",
   "nbconvert_exporter": "python",
   "pygments_lexer": "ipython3",
   "version": "3.6.3rc1"
  }
 },
 "nbformat": 4,
 "nbformat_minor": 2
}
