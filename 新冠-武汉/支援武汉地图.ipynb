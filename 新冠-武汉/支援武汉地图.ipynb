{
 "cells": [
  {
   "cell_type": "code",
   "execution_count": 1,
   "metadata": {},
   "outputs": [],
   "source": [
    "from pyecharts import options as opts\n",
    "from pyecharts.charts import Geo\n",
    "from pyecharts.globals import ChartType,SymbolType"
   ]
  },
  {
   "cell_type": "code",
   "execution_count": 2,
   "metadata": {},
   "outputs": [],
   "source": [
    "def geo_lines():\n",
    "    c=(\n",
    "        Geo(init_opts=opts.InitOpts('1200px','800px')).add_schema(maptype='china')\n",
    "        .add(\n",
    "             \"\",\n",
    "            [('荆门',663),('十堰',467),('仙桃',379),\n",
    "             ('恩施',171),('随州',984),('荆州',997),\n",
    "             ('黄石',760),('神农架',10),('襄阳',998),\n",
    "             ('天门',197),('宜昌',711),('鄂州',639),\n",
    "             ('潜江',82), ('孝感',2436),('黄冈',2141),         \n",
    "             ('咸宁',493)],\n",
    "            type_='scatter',\n",
    "            color='red',\n",
    "            is_polyline=True,\n",
    "        )\n",
    "        .add('确诊人数',\n",
    "             [('浙江','荆门'),('陕西','十堰'),('四川','仙桃'),\n",
    "              ('贵州','恩施'),('河南','随州'),('湖南','荆州'),\n",
    "              ('安徽','黄石'),('天津','神农架'),('河北','襄阳'),\n",
    "              ('上海','天门'),('重庆','宜昌'),('广东','鄂州'),\n",
    "              ('北京','潜江'),('江苏','孝感'),('山东','黄冈'),\n",
    "              ('江西','咸宁'),],\n",
    "             type_=ChartType.LINES,\n",
    "             effect_opts=opts.EffectOpts(symbol=SymbolType.ARROW,symbol_size=6,color='orange'),\n",
    "             linestyle_opts=opts.LineStyleOpts(curve=0.2)\n",
    "        )\n",
    "        .set_series_opts(label_opts=opts.LabelOpts(is_show=False))\n",
    "        .set_global_opts(title_opts=opts.TitleOpts(title='16省支援地图'))\n",
    "    )\n",
    "    return c"
   ]
  },
  {
   "cell_type": "code",
   "execution_count": 3,
   "metadata": {},
   "outputs": [
    {
     "data": {
      "text/plain": [
       "'F:\\\\jupyter-notebook\\\\可视化\\\\地图可视化\\\\新冠-武汉\\\\16省支援地图.html'"
      ]
     },
     "execution_count": 3,
     "metadata": {},
     "output_type": "execute_result"
    }
   ],
   "source": [
    "a=geo_lines()\n",
    "a.render('16省支援地图.html')"
   ]
  },
  {
   "cell_type": "code",
   "execution_count": null,
   "metadata": {},
   "outputs": [],
   "source": []
  }
 ],
 "metadata": {
  "kernelspec": {
   "display_name": "Python 3",
   "language": "python",
   "name": "python3"
  },
  "language_info": {
   "codemirror_mode": {
    "name": "ipython",
    "version": 3
   },
   "file_extension": ".py",
   "mimetype": "text/x-python",
   "name": "python",
   "nbconvert_exporter": "python",
   "pygments_lexer": "ipython3",
   "version": "3.6.3rc1"
  }
 },
 "nbformat": 4,
 "nbformat_minor": 2
}
